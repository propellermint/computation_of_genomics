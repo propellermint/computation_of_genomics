{
 "cells": [
  {
   "cell_type": "code",
   "execution_count": 1,
   "metadata": {},
   "outputs": [],
   "source": [
    "# Используемые библиотеки\n",
    "import numpy as np\n",
    "import matplotlib.pyplot as plt\n",
    "plt.rc('font', family='Verdana')\n",
    "import copy\n",
    "import time\n",
    "from IPython.display import Image \n",
    "%matplotlib inline"
   ]
  },
  {
   "cell_type": "code",
   "execution_count": 2,
   "metadata": {},
   "outputs": [],
   "source": [
    "# Функция расчета предельного (стационарного) распределения квадратной матрицы А\n",
    "# Входной параметр: квадратная матрица \n",
    "# Выходной параметр: массив предельного (стационарного) распределения\n",
    "def stationary_distribution(A):\n",
    "    n = len(A)\n",
    "    M1 = np.vstack(((A.transpose() - np.eye(n))[:-1],np.ones(n)))\n",
    "    v1 = np.eye(n)[-1]\n",
    "    p = np.linalg.solve(M1,v1)\n",
    "    return p\n",
    "\n",
    "# Функция перевода из номеров в обозначения F и L\n",
    "# Входной параметр: массив из 0 и 1, обозначающий состояния\n",
    "# Выходной параметр: строка из F и L, обозначающая состояния\n",
    "def translation(l):\n",
    "    L = len(l)\n",
    "    c = ''\n",
    "    dec = {0:'F', 1:'L'}\n",
    "    for i in range(L):\n",
    "        c += dec[l[i]]\n",
    "    return c\n",
    "\n",
    "# Фукнция создания вектора наблюдений x и вектора действительных состояний l \n",
    "# Входные параметры: матрица переходных вероятностей, матрица эмиссий, длина последовательности \n",
    "# Выходной параметр: массивы действителььных состояний и наблюдений\n",
    "def Observation(A, E, L):\n",
    "    M = len(E)\n",
    "    R = len(E.transpose())\n",
    "    x = np.zeros((L,), dtype=int)\n",
    "    l = np.zeros((L,), dtype=int)\n",
    "    stat_dist = stationary_distribution(A)\n",
    "    r1 = np.random.random()\n",
    "    flag1 = 0 \n",
    "    for i in range(M):\n",
    "        if r1 < (flag1 + stat_dist[i]):\n",
    "            l[0] = i\n",
    "            r2 = np.random.random()\n",
    "            flag2 = 0\n",
    "            for j in range(R):\n",
    "                if r2 < (flag2 + E[i,j]):\n",
    "                    x[0] = j+1\n",
    "                    break;\n",
    "                flag2 += E[i,j]\n",
    "            break;\n",
    "        flag1 += stat_dist[i]\n",
    "    for k in range(1,L):\n",
    "        r1 = np.random.random()\n",
    "        flag1 = 0\n",
    "        for i in range(M):\n",
    "            if r1 < (flag1 + A[l[k-1],i]):\n",
    "                l[k] = i\n",
    "                r2 = np.random.random()\n",
    "                flag2 = 0\n",
    "                for j in range(R):\n",
    "                    if r2 < (flag2 + E[i,j]):\n",
    "                        x[k] = j+1\n",
    "                        break;\n",
    "                    flag2 += E[i,j]\n",
    "                break;\n",
    "            flag1 += A[l[k-1],i]\n",
    "    return l, x"
   ]
  },
  {
   "cell_type": "markdown",
   "metadata": {},
   "source": [
    "### Алгоритм Витерби"
   ]
  },
  {
   "cell_type": "code",
   "execution_count": 3,
   "metadata": {},
   "outputs": [],
   "source": [
    "# Алгоритм Витерби для поиска наиболее вероятного пути\n",
    "# Входные параметры: матрица переходных вероятностей, матрица эмиссий, длина последовательности \n",
    "# Выходной параметр: массив наиболее вероятных состояний\n",
    "def Algorithm_Viterby(Rolls, A, E):\n",
    "    L = len(Rolls)\n",
    "    M = len(E)\n",
    "    V = np.zeros((M, L))\n",
    "    Ptr = np.zeros((M, L))\n",
    "    m = np.zeros(L)\n",
    "    V[:, 0] = stationary_distribution(A)*E[:, Rolls[0] - 1]\n",
    "    m[0] = max(V[:, 0])\n",
    "    V[:, 0] /= m[0]\n",
    "    for i in range(1, L):\n",
    "        for j in range(M):\n",
    "            S = E[j, Rolls[i]-1]*V[:, i-1]*A[:, j]\n",
    "            V[j,i] = max(S)\n",
    "            Ptr[j,i] = np.argmax(S)\n",
    "    P = np.zeros(L)\n",
    "    P[-1] = np.argmax(V[:,-1])\n",
    "    for i in range(L-2,-1,-1):\n",
    "        P[i] = Ptr[int(P[i+1]),i+1]\n",
    "    Real = translation(P)\n",
    "    return Real\n",
    "\n",
    "# Функция печати наблюдений и состояний для алгоритма Витерби\n",
    "# Входные параметры: массивы действительных состояний и наблюдений, массив наиболее вероятных наблюдений, ширина выводных строк\n",
    "# Выходной параметр: выведенные на экран входные массивы, частота верно определенных состояний\n",
    "def print_model_Viterby(Die, Rolls, Viterby, d):\n",
    "    L = len(Rolls)\n",
    "    Die = translation(Die)\n",
    "    for j in range (L//d):\n",
    "        print('Rolls:   ', end = '')\n",
    "        for i in range(d*j, d*(j+1)):\n",
    "            print(Rolls[i], end = '')\n",
    "        print('\\nDie:     ', end = '')\n",
    "        print(''.join(Die[d*j:d*(j+1)]))\n",
    "        print('Viterby: ', end = '')\n",
    "        print(''.join(Viterby[d*j:d*(j+1)]),'\\n')\n",
    "    if (L % d) !=0:\n",
    "        print('Rolls:   ', end = '')\n",
    "        for i in range(L-L % d, L):\n",
    "            print(Rolls[i], end = '')\n",
    "        print('\\nDie:     ', end = '')\n",
    "        print(''.join(Die[L-L % d:]))\n",
    "        print('Viterby: ', end = '')\n",
    "        print(''.join(Viterby[L-L % d:]))\n",
    "    s = 0\n",
    "    for i in range(L):\n",
    "        if Die[i] == Viterby[i]:\n",
    "            s+=1\n",
    "    print('\\nЧастота совпадения:', s/L)\n",
    "\n",
    "def P_Viterby(Die, Viterby):\n",
    "    L = len(Die)\n",
    "    Die = translation(Die)\n",
    "    s = 0\n",
    "    for i in range(L):\n",
    "        if Die[i] == Viterby[i]:\n",
    "            s+=1\n",
    "    return s\n",
    "    \n",
    "def hist(P_V, L):\n",
    "    size = len(P_V)\n",
    "    x_bar = np.arange(0,1+1/L, 1/L)\n",
    "    y_bar = np.zeros(len(x_bar))\n",
    "    for i in range(size):\n",
    "        y_bar[P_V[i]] += 1\n",
    "    y_bar /= size\n",
    "    fig, ax = plt.subplots()\n",
    "    ax.bar(x_bar, y_bar, align = 'center', width = 1/L)\n",
    "    fig.set_facecolor('floralwhite')\n",
    "    fig.set_figwidth(12)\n",
    "    fig.set_figheight(6)\n",
    "    ax.set_xlabel('Вероятность совпадения')\n",
    "    ax.set_ylabel('Частота')\n",
    "    plt.show()\n",
    "\n",
    "def charact_Viterby(A, E, size, L):\n",
    "    P_V = np.zeros(size, dtype = int)\n",
    "    for t in range(size):\n",
    "        Die, Rolls = Observation(A, E, L)\n",
    "        Viterby = Algorithm_Viterby(Rolls, A, E)\n",
    "        P_V[t] = P_Viterby(Die, Viterby)\n",
    "    E_V = sum(P_V)/size\n",
    "    D_V = np.sqrt(sum((P_V - E_V)**2)/(size-1))\n",
    "    print('Выборка:', size)\n",
    "    print('Длина последовательностей:', L)\n",
    "    print('Выборочное среднее:', E_V/L)\n",
    "    print('Выборочное среднеквадратичное отклонение:', D_V/L)\n",
    "    hist(P_V,L)"
   ]
  },
  {
   "cell_type": "markdown",
   "metadata": {},
   "source": [
    "\n",
    "\n",
    "Переменные, необходимые для реализации алгоритма Витерби.\n",
    "А - матрица переходных вероятностей\n",
    "E - матрица эмиссий\n"
   ]
  },
  {
   "cell_type": "code",
   "execution_count": 4,
   "metadata": {},
   "outputs": [
    {
     "name": "stdout",
     "output_type": "stream",
     "text": [
      "A:\n",
      "[[0.95 0.05]\n",
      " [0.1  0.9 ]]\n",
      "E:\n",
      "[[0.16666667 0.16666667 0.16666667 0.16666667 0.16666667 0.16666667]\n",
      " [0.1        0.1        0.1        0.1        0.1        0.5       ]]\n"
     ]
    }
   ],
   "source": [
    "A = np.array([[0.95,0.05],[0.1,0.9]])\n",
    "E = np.array([[1/6,1/6,1/6,1/6,1/6,1/6],[0.1,0.1,0.1,0.1,0.1,0.5]])\n",
    "print('A:', A, 'E:', E, sep = '\\n')"
   ]
  },
  {
   "cell_type": "markdown",
   "metadata": {},
   "source": [
    "Изображение результатов алгоритма Витерби для последовательности длиной 300\n",
    "L - длина последовательности\n",
    "Rolls - массив наблюдений\n",
    "Die - массив действительных состояний\n",
    "Viterby - наиболее вероятный массив состояний"
   ]
  },
  {
   "cell_type": "code",
   "execution_count": 6,
   "metadata": {},
   "outputs": [
    {
     "name": "stdout",
     "output_type": "stream",
     "text": [
      "Rolls:   41132633255524523235611331452325261263153266666626624466154166666614254536633424141661232423133312653561263534\n",
      "Die:     FFLLLLFFFFFFFFFFFFFFFFFFFFFFFFFFFFFFFFFFFFFFLLLLLLLLLLLLLLLLLLLLLLLLLFFFFFFFFFFFLFFFFFFFFFFFFFFFFFLLLLLFFFFFFF\n",
      "Viterby: FFFFFFFFFFFFFFFFFFFFFFFFFFFFFFFFFFFFFFFFFFLLLLLLLLLLLLLLLLLLLLLLLLFFFFFFFFFFFFFFFFFFFFFFFFFFFFFFFFFFFFFFFFFFFF \n",
      "\n",
      "Rolls:   31243455462616265361462166466411456633661321555233261654665322613525155252634336515453163353563562544264641656\n",
      "Die:     FFFFFFFFLLLLLLLLLFFFFFFFFFFFFFFFFFLLFFFLLLLFFFFFFFFFFFFFFFFFFFFFFFFFFFFFFFFFFFFFFFFFFFFFFFFFFFFFFFFFFFFFFFFFFF\n",
      "Viterby: FFFFFFFFFFFFFFFFFFFFFFFFFFFFFFFFFFFFFFFFFFFFFFFFFFFFFFFFFFFFFFFFFFFFFFFFFFFFFFFFFFFFFFFFFFFFFFFFFFFFFFFFFFFFFF \n",
      "\n",
      "Rolls:   16436512646656115561425445222125663166626223111433261161116465366254525266525136\n",
      "Die:     FFFFFFFFFLLLLLFFFFFFFFLLFFFFFFFFFFFFFFLLLFFFFFFFFFLLLLFFFFLLLLLLLLFFFFFFFFFFFFFF\n",
      "Viterby: FFFFFFFFFFFFFFFFFFFFFFFFFFFFFFFFFFFFFFFFFFFFFFFFFFFFFFFFFFFFFFFFFFFFFFFFFFFFFFFF\n",
      "\n",
      "Частота совпадения: 0.8266666666666667\n"
     ]
    }
   ],
   "source": [
    "L = 300\n",
    "Die, Rolls = Observation(A, E, L)\n",
    "Viterby = Algorithm_Viterby(Rolls, A, E)\n",
    "print_model_Viterby(Die, Rolls, Viterby, 110)"
   ]
  },
  {
   "cell_type": "markdown",
   "metadata": {},
   "source": [
    "\n",
    "\n",
    "Изображение результатов алгоритма Витерби для последовательности длиной 1000\n",
    "L - длина последовательности\n",
    "Rolls - массив наблюдений\n",
    "Die - массив действительных состояний\n",
    "Viterby - наиболее вероятный массив состояний\n"
   ]
  },
  {
   "cell_type": "code",
   "execution_count": 7,
   "metadata": {},
   "outputs": [
    {
     "name": "stdout",
     "output_type": "stream",
     "text": [
      "Rolls:   65511143551654531256366564214326156526666336665611166636526662664355231364336114341122611654561234463252461245\n",
      "Die:     FFFFFFFFFFFFFFFFFFFFFFFFFFFFFFFFFLLLLLLLLLLLLLLLFFFLLLLLLLLLLFFLLFFFFFFFLLLLLFFFFFFFFFFFFLLLLLLLLLLLFFFFFFFFFF\n",
      "Viterby: FFFFFFFFFFFFFFFFFFFFFFFFFFFFFFFFFFFFFLLLLLLLLLLLLLLLLLLLLLLLLLLLFFFFFFFFFFFFFFFFFFFFFFFFFFFFFFFFFFFFFFFFFFFFFF \n",
      "\n",
      "Rolls:   55421312561414466231636141621363365126443113615323342265233511425143655112541423333461263466266662564636351366\n",
      "Die:     FFFFFFFFFFFFFFFLLLLLLLLLLLLLLFFFFFFFFFFFFFFFFFFFFFFFFFFFFFFFFFFFFFFFFFFFFFFFFFFFFFFFFFFFFFLLLLLLLLLLLLLLLLLLLL\n",
      "Viterby: FFFFFFFFFFFFFFFFFFFFFFFFFFFFFFFFFFFFFFFFFFFFFFFFFFFFFFFFFFFFFFFFFFFFFFFFFFFFFFFFFFFFFFFFFFLLLLLLLLLLLLLLLLLLLL \n",
      "\n",
      "Rolls:   66246636511441635643361533556664525445333231556215543421461111536166656313316514625141255116634644212316446645\n",
      "Die:     LLLLLLFFFFFFFFFFFFFFFFFFFFFFFFFFFFFFFFFFFFFFFFFFFFFFFFFFFFFFFFFFLLLLLLFFFFFFFFFFFFFFFFFFFFLLLLFFFFFFFLLLLLLLLL\n",
      "Viterby: LLLLLLLLFFFFFFFFFFFFFFFFFFFFFFFFFFFFFFFFFFFFFFFFFFFFFFFFFFFFFFFFFFFFFFFFFFFFFFFFFFFFFFFFFFFFFFFFFFFFFFFFFFFFFF \n",
      "\n",
      "Rolls:   64332534651443332314356166115616626514664635261541324643532525142661133463146442254323666525632112554461313352\n",
      "Die:     LLLLFFFFFFFFFFFFFFFFFFFFFFFFFFFFLLLLLLLLLLFFFFFFFFFFFFFFFFFFFFFFFLLLFFFFFFFFFFFFFFFFFFFFFFFFFFFFFFFFFFLFFFFFFF\n",
      "Viterby: FFFFFFFFFFFFFFFFFFFFFFFFFFFFFFFFFFFFFFFFFFFFFFFFFFFFFFFFFFFFFFFFFFFFFFFFFFFFFFFFFFFFFFFFFFFFFFFFFFFFFFFFFFFFFF \n",
      "\n",
      "Rolls:   46525535365166322665346666614243636666462625515136532522226626662366461362355121324431664253155144513121362424\n",
      "Die:     FFFFFFFFFFFFFFFFFLLLLLLLLLLFFFFFLLLLLLLLLLLLFFFFFFFFFFFFFLLLLLLLLFFLLLFFFFFFFFFFFFFFFFFFFFFFFFFFFFFFFFFFFFFFFL\n",
      "Viterby: FFFFFFFFFFFFFFFFFFFFFFFFFFFFFFFFFFFFFFFFFFFFFFFFFFFFFFFFFFFFFFFFFFFFFFFFFFFFFFFFFFFFFFFFFFFFFFFFFFFFFFFFFFFFFF \n",
      "\n",
      "Rolls:   42366324112411346526653525653664541266663665312216626536266156646666616646363665635246246222166146634614121666\n",
      "Die:     LLLLLFFFFFFFFFFFFFFFFFFFFFFFLLLLLLLLLLLLLLLLLLLLLLLLLLLLLLLLLLLLLLLLLLLLLLFFFFFFFFFFFLLLLFFFLLLLLLLLLLLLLLLLLL\n",
      "Viterby: FFFFFFFFFFFFFFFFFFFFFFFFFFFFFFFFFFFFFFFFFFFFFFFFFFFFFFFFFFFFFFFFFFFFFFFFFFFFFFFFFFFFFFFFFFFFFFFFFFFFFFFFFFFFFF \n",
      "\n",
      "Rolls:   65633166433666544142116631466641365351412333614533245165443416533412453532666651334136556233611652165654554613\n",
      "Die:     LLLLFFLLLLLLLFFFFFFFFLLLLLLLFFFFFFFFFFFFFFFFFFFFFFFFFFFFFFFFFFFLLLLLFFFFFFFFFFFFFFFFFLFFFFFFFFFFFFFFFFFFFFFFFF\n",
      "Viterby: FFFFFFFFFFFFFFFFFFFFFFFFFFFFFFFFFFFFFFFFFFFFFFFFFFFFFFFFFFFFFFFFFFFFFFFFFFFFFFFFFFFFFFFFFFFFFFFFFFFFFFFFFFFFFF \n",
      "\n",
      "Rolls:   21225662652616633412156666461113352651143363412554555155636662526463311312553312131252344461646264166666113634\n",
      "Die:     FFFFLLLLLLLLLLLLFFFFFFFLLLLLLFFFFFLLFFFFFFLFFFFFFFFFFFFFFFFFFFFLLFFFFFFFFFFFFLLLFFFFFFFFFFFFFFLLLLLLLLLLLLLLLF\n",
      "Viterby: FFFFFFFFFFFFFFFFFFFFFFFFFFFFFFFFFFFFFFFFFFFFFFFFFFFFFFFFFFFFFFFFFFFFFFFFFFFFFFFFFFFFFFFFFFFFFFFFFFFFFFFFFFFFFF \n",
      "\n",
      "Rolls:   51633236426314534523636135316132626363454525114242533132642264125334631543311524316413632546216663424666265666\n",
      "Die:     FFFFFFFFFFFFFFFFFFFFFFFFFFFFFFFLLLLLLLFFFFFFFFFFFFFFFFFFFFFFFFFFFFFFFFFFFFFFFFFFFFFFFFFFFFFLFFLLLLLLLLLLLLLLLL\n",
      "Viterby: FFFFFFFFFFFFFFFFFFFFFFFFFFFFFFFFFFFFFFFFFFFFFFFFFFFFFFFFFFFFFFFFFFFFFFFFFFFFFFFFFFFFFFFFFFFFFFFFFFFFFFFFFFFFFF \n",
      "\n",
      "Rolls:   6566423313\n",
      "Die:     LLLLLLFLLL\n",
      "Viterby: FFFFFFFFFF\n",
      "\n",
      "Частота совпадения: 0.716\n"
     ]
    }
   ],
   "source": [
    "L = 1000\n",
    "Die, Rolls = Observation(A, E, L)\n",
    "Viterby = Algorithm_Viterby(Rolls, A, E)\n",
    "print_model_Viterby(Die, Rolls, Viterby, 110)"
   ]
  },
  {
   "cell_type": "code",
   "execution_count": 8,
   "metadata": {},
   "outputs": [
    {
     "name": "stdout",
     "output_type": "stream",
     "text": [
      "Выборка: 100000\n",
      "Длина последовательностей: 100\n",
      "Выборочное среднее: 0.7935626\n",
      "Выборочное среднеквадратичное отклонение: 0.10757492089179216\n"
     ]
    },
    {
     "data": {
      "image/png": "[encoded data removed]",
      "text/plain": [
       "<Figure size 864x432 with 1 Axes>"
      ]
     },
     "metadata": {},
     "output_type": "display_data"
    }
   ],
   "source": [
    "L = 100\n",
    "size = 100000\n",
    "charact_Viterby(A, E, size, L)"
   ]
  },
  {
   "cell_type": "code",
   "execution_count": 9,
   "metadata": {},
   "outputs": [
    {
     "name": "stdout",
     "output_type": "stream",
     "text": [
      "Выборка: 100000\n",
      "Длина последовательностей: 500\n",
      "Выборочное среднее: 0.7713587599999999\n",
      "Выборочное среднеквадратичное отклонение: 0.054132186674830746\n"
     ]
    },
    {
     "data": {
      "image/png": "[encoded data removed]",
      "text/plain": [
       "<Figure size 864x432 with 1 Axes>"
      ]
     },
     "metadata": {},
     "output_type": "display_data"
    }
   ],
   "source": [
    "L = 500\n",
    "size = 100000\n",
    "charact_Viterby(A, E, size, L)"
   ]
  },
  {
   "cell_type": "code",
   "execution_count": 10,
   "metadata": {},
   "outputs": [
    {
     "name": "stdout",
     "output_type": "stream",
     "text": [
      "Выборка: 100000\n",
      "Длина последовательностей: 1000\n",
      "Выборочное среднее: 0.7192701100000001\n",
      "Выборочное среднеквадратичное отклонение: 0.04573184322332436\n"
     ]
    },
    {
     "data": {
      "image/png": "[encoded data removed]",
      "text/plain": [
       "<Figure size 864x432 with 1 Axes>"
      ]
     },
     "metadata": {},
     "output_type": "display_data"
    }
   ],
   "source": [
    "L = 1000\n",
    "size = 100000\n",
    "charact_Viterby(A, E, size, L)"
   ]
  },
  {
   "cell_type": "markdown",
   "metadata": {},
   "source": [
    "### АЛГОРИТМ АПОСТЕРИОРНОГО ДЕШИФРОВАНИЯ"
   ]
  },
  {
   "cell_type": "code",
   "execution_count": 11,
   "metadata": {},
   "outputs": [],
   "source": [
    "# Алгоритм просмотра вперед\n",
    "# Входные параметры: массив наблюдений, матрица переходных вероятностей, матрица эмиссий\n",
    "# Выходной параметр: нормированная результирущая матрица, нормированная вероятность наблюдения, вектор нормировочных коэффициентов\n",
    "def Forward_algoritm(Rolls, A, E, X):\n",
    "    L = len(Rolls) \n",
    "    M = len(E)\n",
    "    F = np.zeros((M, L))\n",
    "    m_f = np.zeros(L)\n",
    "    F[:,0] = X*E[:, Rolls[0]-1]\n",
    "    m_f[0] = max(F[:, 0])\n",
    "    F[:, 0] /= m_f[0]\n",
    "    for i in range(1, L):\n",
    "        for j in range(M):\n",
    "            F[j,i] = E[j, Rolls[i]-1]*sum(F[:, i-1]*A[:, j])\n",
    "        m_f[i] = max(F[:,i])\n",
    "        F[:,i] /= m_f[i]\n",
    "    P_f = sum(F[:,-1]) \n",
    "    return F, P_f, m_f\n",
    "\n",
    "# Алгоритм просмотра назад\n",
    "# Входные параметры: массив наблюдений, матрица переходных вероятностей, матрица эмиссий\n",
    "# Выходной параметр: нормированная результирущая матрица, нормированная вероятность наблюдения, вектор нормировочных коэффициентов\n",
    "def Backward_algoritm(Rolls, A, E, X):\n",
    "    L = len(Rolls) \n",
    "    M = len(E)\n",
    "    B = np.zeros((M, L))\n",
    "    m_b = np.zeros(L)\n",
    "    B[:,-1] = np.array([1,1])\n",
    "    m_b[-1] = 1\n",
    "    for i in range(L-2, -1, -1):\n",
    "        for j in range(M):\n",
    "            B[j,i] = sum(B[:,i+1]*A[j]*E[:,Rolls[i+1]-1])\n",
    "        m_b[i] = max(B[:,i])\n",
    "        B[:,i] /= m_b[i]\n",
    "    P_b = sum(B[:,0]*X*E[:,Rolls[0]-1])\n",
    "    return B, P_b, m_b\n",
    "\n",
    "# Алгоритм проверки равенства вероятностей алгоритмов просмотра вперед и назад\n",
    "# Входные параметры: нормированные вероятности наблюдения и вектора нормировочных коэффициентов алгоритма просмтора вперед и назад\n",
    "# Выходной параметр: True - вероятности равны, False - вероятности не равны\n",
    "def Check_Forward_and_Backward_algorithms(P_f, P_b, m_f, m_b):\n",
    "    print('Вероятности наблюдений алгоритмов равны:', np.isclose((np.log(P_f) + sum(np.log(m_f))),(np.log(P_b) + sum(np.log(m_b)))))\n",
    "\n",
    "# Алгоритм просмотра назад\n",
    "# Входные параметры: нормированные результирущие матрицы алгоритмов вперед и назад, нормированная вероятность наблюдения, \n",
    "# вектора нормировочных коэффициентов алгоритмов вперед и назад\n",
    "# Выходной параметр: результирущая матрица, определяющая вероятность состояний\n",
    "def Aposterior_algorithm(F, B, P, m_f, m_b):\n",
    "    L = len(F)\n",
    "    Result = np.zeros(L)\n",
    "    for i in range(L):\n",
    "        Result[i] = np.log(F[i]) + sum(np.log(m_f[:i+1])) + np.log(B[i]) + sum(np.log(m_b[i:])) - np.log(P) - sum(np.log(m_f))\n",
    "    return np.exp(Result)\n",
    "\n",
    "# Функция печати вероятности выпадения состояния\n",
    "# Входные параметры: нормированные результирущие матрицы алгоритмов вперед и назад, нормированная вероятность наблюдения, \n",
    "# вектора нормировочных коэффициентов алгоритмов вперед и назад\n",
    "# Выходной параметр: график вероятности состояния\n",
    "def print_model_Aposterior(Aposterior, Die):\n",
    "    L = len(Aposterior)\n",
    "    fig, ax = plt.subplots()\n",
    "    x_plot = np.arange(L)\n",
    "    y_plot = Aposterior\n",
    "    for i in range(0,L):\n",
    "        if Die[i]==1:\n",
    "            ax.vlines(i,0,1,linewidth = 1000/L, color = 'lightgrey')\n",
    "    ax.plot(x_plot, y_plot)\n",
    "    fig.set_figwidth(12)\n",
    "    fig.set_figheight(2)\n",
    "    fig.set_facecolor('floralwhite')\n",
    "    ax.set_ylabel('P(правильная)')\n",
    "    plt.show()"
   ]
  },
  {
   "cell_type": "markdown",
   "metadata": {},
   "source": [
    "\n",
    "\n",
    "Переменные, необходимые для тестирования алгоритма апостериорных вероятностей.\n",
    "А - матрица переходных вероятностей\n",
    "E - матрица эмиссий\n"
   ]
  },
  {
   "cell_type": "code",
   "execution_count": 12,
   "metadata": {},
   "outputs": [
    {
     "name": "stdout",
     "output_type": "stream",
     "text": [
      "A:\n",
      "[[0.95 0.05]\n",
      " [0.1  0.9 ]]\n",
      "E:\n",
      "[[0.16666667 0.16666667 0.16666667 0.16666667 0.16666667 0.16666667]\n",
      " [0.1        0.1        0.1        0.1        0.1        0.5       ]]\n"
     ]
    }
   ],
   "source": [
    "A = np.array([[0.95,0.05],[0.1,0.9]])\n",
    "E = np.array([[1/6,1/6,1/6,1/6,1/6,1/6],[0.1,0.1,0.1,0.1,0.1,0.5]])\n",
    "print('A:', A, 'E:', E, sep = '\\n')"
   ]
  },
  {
   "cell_type": "markdown",
   "metadata": {},
   "source": [
    "\n",
    "\n",
    "Изображение результатов алгоритма Витерби для последовательности длиной 300\n",
    "L - длина последовательности\n",
    "Rolls - массив наблюдений\n",
    "По оси абсцисс - порядковый номер наблюдения\n",
    "По оси ординат - верояность состояния 0 (вероятность честной кости)\n",
    "Серым обозначены действительные моменты состояния 1 (нечестная кость)\n"
   ]
  },
  {
   "cell_type": "code",
   "execution_count": 13,
   "metadata": {},
   "outputs": [
    {
     "name": "stdout",
     "output_type": "stream",
     "text": [
      "Вероятности наблюдений алгоритмов равны: True\n"
     ]
    },
    {
     "data": {
      "image/png": "[encoded data removed]",
      "text/plain": [
       "<Figure size 864x144 with 1 Axes>"
      ]
     },
     "metadata": {},
     "output_type": "display_data"
    }
   ],
   "source": [
    "L = 300\n",
    "Die, Rolls = Observation(A, E, L)\n",
    "X = stationary_distribution(A)\n",
    "Forward, P_x_f, m_f = Forward_algoritm(Rolls, A, E, X)\n",
    "Backward, P_x_b, m_b = Backward_algoritm(Rolls, A, E, X)\n",
    "Check_Forward_and_Backward_algorithms(P_x_f, P_x_b, m_f, m_b)\n",
    "Aposterior = Aposterior_algorithm(Forward[0],Backward[0], P_x_f, m_f, m_b)\n",
    "print_model_Aposterior(Aposterior, Die)"
   ]
  },
  {
   "cell_type": "markdown",
   "metadata": {},
   "source": [
    "\n",
    "\n",
    "Изображение результатов алгоритма Витерби для последовательности длиной 1000\n",
    "L - длина последовательности\n",
    "Rolls - массив наблюдений\n",
    "По оси абсцисс - порядковый номер наблюдения\n",
    "По оси ординат - верояность состояния 0 (вероятность честной кости)\n",
    "Серым обозначены действительные моменты состояния 1 (нечестная кость)\n"
   ]
  },
  {
   "cell_type": "code",
   "execution_count": 14,
   "metadata": {},
   "outputs": [
    {
     "name": "stdout",
     "output_type": "stream",
     "text": [
      "Вероятности наблюдений алгоритмов равны: True\n"
     ]
    },
    {
     "data": {
      "image/png": "[encoded data removed]",
      "text/plain": [
       "<Figure size 864x144 with 1 Axes>"
      ]
     },
     "metadata": {},
     "output_type": "display_data"
    }
   ],
   "source": [
    "L = 1000\n",
    "Die, Rolls = Observation(A, E, L)\n",
    "X = stationary_distribution(A)\n",
    "Forward, P_x_f, m_f = Forward_algoritm(Rolls, A, E, X)\n",
    "Backward, P_x_b, m_b = Backward_algoritm(Rolls, A, E, X)\n",
    "Check_Forward_and_Backward_algorithms(P_x_f, P_x_b, m_f, m_b)\n",
    "Aposterior = Aposterior_algorithm(Forward[0],Backward[0], P_x_f, m_f, m_b)\n",
    "print_model_Aposterior(Aposterior, Die)"
   ]
  },
  {
   "cell_type": "markdown",
   "metadata": {},
   "source": [
    "### АЛГОРИТМ БАУМА-ВЕЛША\n"
   ]
  },
  {
   "cell_type": "code",
   "execution_count": 15,
   "metadata": {},
   "outputs": [],
   "source": [
    "# Функция нахождения суммы двух чисел в логарифмическом пространстве\n",
    "# Входные параметры: логарфмы двух чисел\n",
    "# Выходной параметр: логарифм суммы двух чисел\n",
    "def logsum(x,y):\n",
    "     return x + np.log(1 + np.exp(y-x))\n",
    "\n",
    "# Функция нахождения суммы координат вектора в логарифмическом пространстве\n",
    "# Входные параметры: логарфмы двух чисел\n",
    "# Выходной параметр: логарифм суммы двух чисел\n",
    "def logsum_n(vect):\n",
    "    result = vect[0]\n",
    "    for i in range(1,len(vect)):\n",
    "        result = logsum(result, vect[i])\n",
    "    return result\n",
    "\n",
    "# Функция нормирования матриц по строкам (сумма по строке матрицы равна 1)\n",
    "# Входные параметры: матрица\n",
    "# Выходной параметр: нормированная по строкам матрица\n",
    "def norm_matrix(x):\n",
    "    return (x.transpose()/sum(x.transpose())).transpose()\n",
    "\n",
    "# Функция создания п последовательностей наблюдей\n",
    "# Входные параметры: число последовательностей, длина постедовательностей, матрица переходных вероятностей, матрица эмиссий \n",
    "# Выходной параметр: массив последовательностей наблюдений\n",
    "def Rolls_create(n, L, A, E):\n",
    "    Rolls_all = np.zeros(((n, L)), dtype=int)\n",
    "    for i in range(n):\n",
    "        Rolls_all[i] = Observation(A, E, L)[1]\n",
    "    return Rolls_all\n",
    "\n",
    "# Алгоритм Баума-Велша нахождения параметров задачи\n",
    "# Входные параметры: массив последовательностей наблюдений, первоначальная матрица переходных вероятностей, \n",
    "# первоначальная матрица эмиссий, точность поиска (пороговое значение логарифма максимального правдоподобия)\n",
    "# Выходной параметр: итоговая матрица переходных вероятностей, итоговая матрица эмиссийб время работы алгоритма, число итераций\n",
    "def Baum_Welch(Rolls_all, A0, E0, eps):\n",
    "    L = len(Rolls_all[0])\n",
    "    M = len(E0)\n",
    "    R = len(E0.transpose())\n",
    "    n = len(Rolls_all)\n",
    "    t = len(eps)\n",
    "    start_time = time.time()\n",
    "    time_all = np.zeros(t)\n",
    "    iterations = np.zeros((t,), dtype = int)\n",
    "    A_finished = []\n",
    "    E_finished = []\n",
    "    A_all = []\n",
    "    E_all = []\n",
    "    A_all.append(A0)\n",
    "    E_all.append(E0)\n",
    "    X = stationary_distribution(A0)\n",
    "    i = 0\n",
    "    q = 0\n",
    "    while(1):\n",
    "        resultA1 = np.zeros((M,M))\n",
    "        resultE1 = np.zeros((M,R))\n",
    "        Q = 0\n",
    "        for j in range(n):\n",
    "            resultA2 = np.zeros((M,M))\n",
    "            resultE2 = np.zeros((M,R))\n",
    "            Forward, P_x_1, m_f = Forward_algoritm(Rolls_all[j], A_all[i], E_all[i], X)\n",
    "            Backward, P_x_2, m_b = Backward_algoritm(Rolls_all[j], A_all[i], E_all[i], X)\n",
    "            log_P_x = np.log(P_x_1) + sum(np.log(m_f))\n",
    "            for k in range(L-1):\n",
    "                log_sum = (np.zeros((M,M)) + (np.log(Forward[:,k])).reshape(M,1) + sum(np.log(m_f[:k+1])) + np.log(A_all[i]) + \n",
    "                           + np.log(Backward[:,k+1]) + sum(np.log(m_b[k+1:])) + np.log(E_all[i][:, Rolls_all[j][k+1]-1]) - log_P_x)\n",
    "                if k == 0:\n",
    "                    resultA2 = log_sum\n",
    "                else:\n",
    "                    resultA2 = logsum(resultA2, log_sum)\n",
    "            for k in range(L):\n",
    "                log_sum = (np.log(Forward[:,k]) + sum(np.log(m_f[:k+1])) + np.log(Backward[:,k]) + sum(np.log(m_b[k:])) - log_P_x)\n",
    "                if (resultE2[:, Rolls_all[j][k]-1] == np.zeros(M)).all():\n",
    "                    resultE2[:, Rolls_all[j][k]-1] = log_sum                \n",
    "                else:\n",
    "                    resultE2[:, Rolls_all[j][k]-1] = logsum(resultE2[:, Rolls_all[j][k]-1], log_sum)\n",
    "            \n",
    "            if j == 0 :\n",
    "                resultA1 = copy.deepcopy(resultA2)\n",
    "                resultE1 = copy.deepcopy(resultE2)\n",
    "            else:\n",
    "                resultA1 = logsum(resultA1, resultA2)\n",
    "                resultE1 = logsum(resultE1, resultE2)\n",
    "        resultA1 = norm_matrix(np.exp(resultA1))\n",
    "        X = stationary_distribution(resultA1)\n",
    "        resultE1 = norm_matrix(np.exp(resultE1))\n",
    "        A_all.append(np.array(resultA1))\n",
    "        E_all.append(np.array(resultE1))\n",
    "        if ((abs(np.log(A_all[-1]/A_all[-2])) < np.ones((M,M))*eps[q]).all() and \n",
    "            (abs(np.log(E_all[-1]/E_all[-2])) < np.ones((M,R))*eps[q]).all()):\n",
    "            time_all[q] = (time.time()-start_time)/60\n",
    "            iterations[q] = i + 1\n",
    "            A_finished.append(A_all[-1])\n",
    "            E_finished.append(E_all[-1])\n",
    "            if q == t-1: \n",
    "                break\n",
    "            q += 1\n",
    "        i += 1\n",
    "    return A_finished, E_finished, time_all, iterations\n",
    "\n",
    "# Функция печати результатов алгоритма Баума-Велша\n",
    "# Входные параметры: результаты алгоритма Baum_Welch\n",
    "# Выходной параметр: иллюстрация результатов алгоритма Baum_Welch\n",
    "def print_Baum_Welch(BW, eps):\n",
    "    for i in range(len(eps)):  \n",
    "        print('eps =', eps[i])\n",
    "        print('A:', np.around(BW[0][i], decimals = 2), sep = '\\n')\n",
    "        print('E:', np.around(BW[1][i], decimals = 2), sep = '\\n')\n",
    "        print('Время выполнения (в минутах):', BW[2][i])\n",
    "        print('Число итераций:', BW[3][i])\n",
    "        print('')"
   ]
  },
  {
   "cell_type": "markdown",
   "metadata": {},
   "source": [
    "Переменные, необходимые для реализации алгоритма Baum_Welch.\n",
    "А - матрица переходных вероятностей\n",
    "E - матрица эмиссий"
   ]
  },
  {
   "cell_type": "code",
   "execution_count": 16,
   "metadata": {},
   "outputs": [
    {
     "name": "stdout",
     "output_type": "stream",
     "text": [
      "A:\n",
      "[[0.95 0.05]\n",
      " [0.1  0.9 ]]\n",
      "E:\n",
      "[[0.16666667 0.16666667 0.16666667 0.16666667 0.16666667 0.16666667]\n",
      " [0.1        0.1        0.1        0.1        0.1        0.5       ]]\n"
     ]
    }
   ],
   "source": [
    "A = np.array([[0.95,0.05],[0.1,0.9]])\n",
    "E = np.array([[1/6,1/6,1/6,1/6,1/6,1/6],[0.1,0.1,0.1,0.1,0.1,0.5]])\n",
    "print('A:', A, 'E:', E, sep = '\\n')"
   ]
  },
  {
   "cell_type": "markdown",
   "metadata": {},
   "source": [
    "Задание первоначальных матрицы переходных вероятностей и матрицы эмиссий"
   ]
  },
  {
   "cell_type": "code",
   "execution_count": 17,
   "metadata": {},
   "outputs": [
    {
     "name": "stdout",
     "output_type": "stream",
     "text": [
      "A0:\n",
      "[[0.43 0.57]\n",
      " [0.26 0.74]]\n",
      "E0:\n",
      "[[0.23 0.07 0.14 0.23 0.23 0.09]\n",
      " [0.18 0.32 0.13 0.28 0.01 0.08]]\n"
     ]
    }
   ],
   "source": [
    "M = len(E)\n",
    "R = len(E.transpose())\n",
    "while(1):\n",
    "    A0 = np.around(norm_matrix(np.random.random((M,M))), decimals = 2)\n",
    "    E0 = np.around(norm_matrix(np.random.random((M,R))), decimals = 2)\n",
    "    if (A0 != np.zeros((M,M))).all() and (E0 != np.zeros((M,R))).all():\n",
    "        print('A0:', A0, 'E0:', E0, sep = '\\n')\n",
    "        break"
   ]
  },
  {
   "cell_type": "markdown",
   "metadata": {},
   "source": [
    "\n",
    "\n",
    "Нахождение параметров задачи с помощью алогритма Baum_Welch с различными параметрами окончания (порогого значения изменения логарифма правдоподобия)\n",
    "\n",
    "Алгоритм Baum_Welch для 20 обучающих последовательностей длинной 300\n"
   ]
  },
  {
   "cell_type": "code",
   "execution_count": null,
   "metadata": {},
   "outputs": [],
   "source": [
    "n = 20\n",
    "L = 300\n",
    "eps = np.array([1.e-1,1.e-2,1.e-3, 1.e-4])\n",
    "Rolls_all = Rolls_create(n, L, A, E)\n",
    "BW = Baum_Welch(Rolls_all, A0, E0, eps)\n",
    "print_Baum_Welch(BW, eps)"
   ]
  },
  {
   "cell_type": "markdown",
   "metadata": {},
   "source": [
    "Алгоритм Baum_Welch для 10 обучающих последовательностей длинной 1000"
   ]
  },
  {
   "cell_type": "code",
   "execution_count": null,
   "metadata": {},
   "outputs": [],
   "source": [
    "n = 10\n",
    "L = 1000\n",
    "eps = np.array([1.e-1,1.e-2,1.e-3])\n",
    "Rolls_all = Rolls_create(n, L, A, E)\n",
    "BW = Baum_Welch(Rolls_all, A0, E0, eps)\n",
    "print_Baum_Welch(BW, eps)"
   ]
  },
  {
   "cell_type": "markdown",
   "metadata": {},
   "source": [
    "Алгоритм Baum_Welch для 1 обучающей последовательности длинной 10000"
   ]
  },
  {
   "cell_type": "code",
   "execution_count": null,
   "metadata": {},
   "outputs": [],
   "source": [
    "n = 1\n",
    "L = 10000\n",
    "eps = np.array([1.e-1,1.e-2,1.e-3])\n",
    "Rolls_all = Rolls_create(n, L, A, E)\n",
    "BW = Baum_Welch(Rolls_all, A0, E0, eps)\n",
    "print_Baum_Welch(BW, eps)"
   ]
  },
  {
   "cell_type": "markdown",
   "metadata": {},
   "source": [
    "Анализ алгоритма Baum_Welch показал, что в текущей реализации, результат (опеределененный в задаче) определяется с достаточной точность при изменении логарифма правдоподобия на 0.001."
   ]
  },
  {
   "cell_type": "markdown",
   "metadata": {},
   "source": [
    "### ПРОВЕРКА АЛГОРИТМОВ ВИТЕРБИ И АПОСТЕРИОРНОГО ДЕШИФРОВАНИЯ ПО ПРИМЕРАМ ИЗ УЧЕБНИКА"
   ]
  },
  {
   "cell_type": "code",
   "execution_count": null,
   "metadata": {},
   "outputs": [],
   "source": [
    "Rolls_str = ('3151162464466442453113216311641521336251445436316566265666666511664531326512456366646316366631623264552362666666' +\n",
    "             '2515163122255544166656656356432436413151346514635341112641462625335636616366636623253551366166116325256246225526' + \n",
    "             '5252266435353336233121625364414432335163243633665562466662632666612355245242')\n",
    "Die_str = ('000000000000000000000000000000000000000000000111111111111111111111000000000000111111111111111100011111111111111000' +\n",
    "           '000000000000001111111111111000000000000000000000000000000000000011111111110000000000000000000000000000000000000000' +\n",
    "           '000000000000000000000000000000000000000111111111111111111111100000000000')\n",
    "A = np.array([[0.95,0.05],[0.1,0.9]])\n",
    "E = np.array([[1/6,1/6,1/6,1/6,1/6,1/6],[0.1,0.1,0.1,0.1,0.1,0.5]])\n",
    "L = len(Rolls_str)\n",
    "Rolls = np.zeros((L,), dtype=int)\n",
    "Die = np.zeros((L,), dtype=int)\n",
    "for i in range(L):\n",
    "    Rolls[i] = Rolls_str.split()[0][i]\n",
    "    Die[i] = Die_str.split()[0][i]\n",
    "Viterby = Algorithm_Viterby(Rolls, A, E)\n",
    "print_model_Viterby(Die, Rolls, Viterby, 60)"
   ]
  },
  {
   "cell_type": "code",
   "execution_count": null,
   "metadata": {},
   "outputs": [],
   "source": [
    "Image(filename= r'C:\\Viterby.png')"
   ]
  },
  {
   "cell_type": "code",
   "execution_count": null,
   "metadata": {},
   "outputs": [],
   "source": [
    "A = np.array([[0.95,0.05],[0.1,0.9]])\n",
    "E = np.array([[1/6,1/6,1/6,1/6,1/6,1/6],[0.1,0.1,0.1,0.1,0.1,0.5]])\n",
    "X = stationary_distribution(A)\n",
    "Forward, P_x_f, m_f = Forward_algoritm(Rolls, A, E, X)\n",
    "Backward, P_x_b, m_b = Backward_algoritm(Rolls, A, E, X)\n",
    "Aposterior = Aposterior_algorithm(Forward[0],Backward[0],P_x_f, m_f, m_b)\n",
    "print_model_Aposterior(Aposterior, Die)"
   ]
  },
  {
   "cell_type": "code",
   "execution_count": null,
   "metadata": {},
   "outputs": [],
   "source": [
    "Image(filename= r'C:\\Aposterior.png')"
   ]
  },
  {
   "cell_type": "code",
   "execution_count": null,
   "metadata": {},
   "outputs": [],
   "source": []
  }
 ],
 "metadata": {
  "kernelspec": {
   "display_name": "Python 3",
   "language": "python",
   "name": "python3"
  },
  "language_info": {
   "codemirror_mode": {
    "name": "ipython",
    "version": 3
   },
   "file_extension": ".py",
   "mimetype": "text/x-python",
   "name": "python",
   "nbconvert_exporter": "python",
   "pygments_lexer": "ipython3",
   "version": "3.7.6"
  },
  "latex_envs": {
   "LaTeX_envs_menu_present": true,
   "autoclose": false,
   "autocomplete": true,
   "bibliofile": "biblio.bib",
   "cite_by": "apalike",
   "current_citInitial": 1,
   "eqLabelWithNumbers": true,
   "eqNumInitial": 1,
   "hotkeys": {
    "equation": "Ctrl-E",
    "itemize": "Ctrl-I"
   },
   "labels_anchors": false,
   "latex_user_defs": false,
   "report_style_numbering": false,
   "user_envs_cfg": false
  }
 },
 "nbformat": 4,
 "nbformat_minor": 4
}
